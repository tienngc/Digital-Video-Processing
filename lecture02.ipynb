{
 "cells": [
  {
   "cell_type": "code",
   "execution_count": 3,
   "metadata": {},
   "outputs": [],
   "source": [
    "import cv2 as cv\n",
    "import numpy as np\n",
    "import matplotlib.pyplot as plt\n"
   ]
  },
  {
   "cell_type": "code",
   "execution_count": null,
   "metadata": {},
   "outputs": [],
   "source": [
    "# Function to load frames from a video file\n",
    "def loadFrame(videoPath: str, numberFrame: int) -> list:\n",
    "    frameList = []\n",
    "    videoCap = cv.VideoCapture(videoPath)\n",
    "    count = 0\n",
    "    while count < numberFrame:\n",
    "        success, frame = videoCap.read()\n",
    "        if not success:\n",
    "            break\n",
    "        frame = cv.cvtColor(frame, cv.COLOR_BGR2GRAY)\n",
    "        frameList.append(frame)\n",
    "        count += 1\n",
    "    return frameList"
   ]
  },
  {
   "cell_type": "code",
   "execution_count": 4,
   "metadata": {},
   "outputs": [
    {
     "data": {
      "text/plain": [
       "<Figure size 1800x1800 with 0 Axes>"
      ]
     },
     "metadata": {},
     "output_type": "display_data"
    }
   ],
   "source": [
    "# Function to show images in a grid\n",
    "plt.figure(figsize=(6.0, 6.0), dpi=300)\n",
    "plt_row = 4\n",
    "plt_col = 3\n",
    "def show(slot, img, title, cmap=None):\n",
    "    plt.subplot(plt_row, plt_col, slot)\n",
    "    if cmap is None:\n",
    "        plt.imshow(img)\n",
    "    else:\n",
    "        plt.imshow(img, cmap=cmap)\n",
    "    plt.title(title)"
   ]
  },
  {
   "cell_type": "code",
   "execution_count": 5,
   "metadata": {},
   "outputs": [
    {
     "ename": "NameError",
     "evalue": "name 'loadFrame' is not defined",
     "output_type": "error",
     "traceback": [
      "\u001b[0;31m---------------------------------------------------------------------------\u001b[0m",
      "\u001b[0;31mNameError\u001b[0m                                 Traceback (most recent call last)",
      "Cell \u001b[0;32mIn[5], line 2\u001b[0m\n\u001b[1;32m      1\u001b[0m \u001b[38;5;66;03m# Load frames\u001b[39;00m\n\u001b[0;32m----> 2\u001b[0m frms \u001b[38;5;241m=\u001b[39m \u001b[43mloadFrame\u001b[49m(\u001b[38;5;124m'\u001b[39m\u001b[38;5;124mforeman_qcif_mono.y4m\u001b[39m\u001b[38;5;124m'\u001b[39m, \u001b[38;5;241m12\u001b[39m)\n\u001b[1;32m      4\u001b[0m \u001b[38;5;66;03m# Show original frames\u001b[39;00m\n\u001b[1;32m      5\u001b[0m \u001b[38;5;28;01mfor\u001b[39;00m t \u001b[38;5;129;01min\u001b[39;00m \u001b[38;5;28mrange\u001b[39m(\u001b[38;5;241m12\u001b[39m):\n",
      "\u001b[0;31mNameError\u001b[0m: name 'loadFrame' is not defined"
     ]
    }
   ],
   "source": [
    "# Load frames\n",
    "frms = loadFrame('foreman_qcif_mono.y4m', 12)\n",
    "\n",
    "# Show original frames\n",
    "for t in range(12):\n",
    "    show(t+1, frms[t], f\"Frame {t}\", 'gray')"
   ]
  },
  {
   "cell_type": "code",
   "execution_count": null,
   "metadata": {},
   "outputs": [],
   "source": [
    "# Drop odd frames and keep even frames\n",
    "even_frames = frms[::2]\n",
    "odd_frames = frms[1::2]\n",
    "\n",
    "# Interpolation using frame averaging\n",
    "for i in range(len(even_frames) - 1):\n",
    "    backward = even_frames[i]\n",
    "    forward = even_frames[i + 1]\n",
    "    ground = odd_frames[i]\n",
    "    \n",
    "    # Simple frame averaging\n",
    "    average = (backward // 2) + (forward // 2)\n",
    "    \n",
    "    # Calculate PSNR\n",
    "    psnr_avg = cv.PSNR(ground, average)\n",
    "    show(i + 1, average, f\"Avg Frame {i}\", 'gray')\n",
    "    print(f\"PSNR (Avg Frame {i}) = {psnr_avg}\")"
   ]
  },
  {
   "cell_type": "code",
   "execution_count": null,
   "metadata": {},
   "outputs": [],
   "source": [
    "# Motion compensation\n",
    "BLOCK_SIZE = 16\n",
    "SEARCH_RANGE = 8\n",
    "\n",
    "def get_block(img, x, y, block_size):\n",
    "    return img[y:y+block_size, x:x+block_size]\n",
    "\n",
    "def mse(block1, block2):\n",
    "    return np.mean((block1 - block2) ** 2)\n",
    "\n",
    "def motion_compensation(backward, forward, block_size, search_range):\n",
    "    height, width = backward.shape\n",
    "    interpolated = np.zeros_like(backward)\n",
    "    \n",
    "    for y in range(0, height, block_size):\n",
    "        for x in range(0, width, block_size):\n",
    "            min_mse = float('inf')\n",
    "            best_match = (0, 0)\n",
    "            \n",
    "            for dy in range(-search_range, search_range + 1):\n",
    "                for dx in range(-search_range, search_range + 1):\n",
    "                    new_y = y + dy\n",
    "                    new_x = x + dx\n",
    "                    \n",
    "                    if new_x < 0 or new_y < 0 or new_x + block_size > width or new_y + block_size > height:\n",
    "                        continue\n",
    "                    \n",
    "                    block_backward = get_block(backward, x, y, block_size)\n",
    "                    block_forward = get_block(forward, new_x, new_y, block_size)\n",
    "                    \n",
    "                    current_mse = mse(block_backward, block_forward)\n",
    "                    \n",
    "                    if current_mse < min_mse:\n",
    "                        min_mse = current_mse\n",
    "                        best_match = (new_x, new_y)\n",
    "            \n",
    "            x_match, y_match = best_match\n",
    "            interpolated[y:y+block_size, x:x+block_size] = (\n",
    "                get_block(backward, x, y, block_size) // 2 + get_block(forward, x_match, y_match, block_size) // 2\n",
    "            )\n",
    "    \n",
    "    return interpolated\n"
   ]
  },
  {
   "cell_type": "code",
   "execution_count": null,
   "metadata": {},
   "outputs": [],
   "source": [
    "# Apply motion compensation and calculate PSNR\n",
    "for i in range(len(even_frames) - 1):\n",
    "    backward = even_frames[i]\n",
    "    forward = even_frames[i + 1]\n",
    "    ground = odd_frames[i]\n",
    "    \n",
    "    interpolated = motion_compensation(backward, forward, BLOCK_SIZE, SEARCH_RANGE)\n",
    "    psnr_mc = cv.PSNR(ground, interpolated)\n",
    "    \n",
    "    show(i + 1 + len(even_frames), interpolated, f\"MC Frame {i}\", 'gray')\n",
    "    print(f\"PSNR (MC Frame {i}) = {psnr_mc}\")\n",
    "\n",
    "plt.show()\n"
   ]
  }
 ],
 "metadata": {
  "kernelspec": {
   "display_name": "Python 3",
   "language": "python",
   "name": "python3"
  },
  "language_info": {
   "codemirror_mode": {
    "name": "ipython",
    "version": 3
   },
   "file_extension": ".py",
   "mimetype": "text/x-python",
   "name": "python",
   "nbconvert_exporter": "python",
   "pygments_lexer": "ipython3",
   "version": "3.9.6"
  }
 },
 "nbformat": 4,
 "nbformat_minor": 2
}
